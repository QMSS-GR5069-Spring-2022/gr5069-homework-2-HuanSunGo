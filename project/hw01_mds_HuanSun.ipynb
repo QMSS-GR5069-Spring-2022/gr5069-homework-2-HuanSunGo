{
 "cells": [
  {
   "cell_type": "markdown",
   "id": "02848d2d",
   "metadata": {},
   "source": [
    "# HW1\n",
    "\n",
    "***\n",
    "## Q1. Creat a Jupyter Notebook. \n",
    "**Use markdown to structure and seperate questions. Link favorite ds blog and insert a picture of the blog logo.**"
   ]
  },
  {
   "attachments": {
    "KDnuggets-logo.png": {
     "image/png": "[encoded data removed]"
    }
   },
   "cell_type": "markdown",
   "id": "6543a6e4",
   "metadata": {},
   "source": [
    "- My favourite data science blog:  __[KDnuggets](https://www.kdnuggets.com/)__\n",
    "- Check out the **logo** of KDnuggets below: <br>\n",
    "![KDnuggets-logo.png](attachment:KDnuggets-logo.png)"
   ]
  },
  {
   "cell_type": "markdown",
   "id": "4fa28f20",
   "metadata": {},
   "source": [
    "## Q2. Using Markdown. \n",
    "**Add an inspiring quote formatted as a block quote and the origin of the quote in italic.**\n",
    "> \"You had your time, you had the power.\n",
    "You've yet to have your finest hour.\" <br><br> --*Radio Ga Ga by Queen*"
   ]
  },
  {
   "cell_type": "markdown",
   "id": "c7e67b26",
   "metadata": {},
   "source": [
    "   ## Q3. Latex formula and the plot."
   ]
  },
  {
   "cell_type": "code",
   "execution_count": 15,
   "id": "ed60ff63",
   "metadata": {},
   "outputs": [
    {
     "data": {
      "image/png": "[encoded data removed]",
      "text/plain": [
       "<Figure size 432x288 with 1 Axes>"
      ]
     },
     "metadata": {
      "needs_background": "light"
     },
     "output_type": "display_data"
    }
   ],
   "source": [
    "from matplotlib import pyplot as plt\n",
    "import numpy as np\n",
    "\n",
    "#Create a series x of range 0 to 1000\n",
    "x=np.arange(0,1001,1)\n",
    "\n",
    "#Add a y column which is a non-linear function of x\n",
    "y=x**2+1\n",
    "\n",
    "#Plot the line\n",
    "plt.plot(x,y,label='$Y=X^2+1$')\n",
    "plt.xlabel('x')\n",
    "plt.ylabel('y')\n",
    "plt.legend()\n",
    "plt.show()\n",
    "    \n"
   ]
  },
  {
   "cell_type": "markdown",
   "id": "5ec4cdb8",
   "metadata": {},
   "source": [
    "   ## Q4. Markdown table of  5 useful packages.\n",
    "   \n",
    "|Python Packages|Github Stars|\n",
    "|------|------|\n",
    "|Pands |31.1k|\n",
    "|Numpy |18.3k  |\n",
    "|Matplotlib |14.3k  |\n",
    "|Scikit-learn |47.3k  |\n",
    "|TensorFlow |159k|"
   ]
  },
  {
   "cell_type": "markdown",
   "id": "0a634cc7",
   "metadata": {},
   "source": [
    "   ## Q5.Execute shell command."
   ]
  },
  {
   "cell_type": "code",
   "execution_count": 43,
   "id": "3b772b2b",
   "metadata": {},
   "outputs": [
    {
     "data": {
      "text/plain": [
       "'C:\\\\Users\\\\hs324\\\\OneDrive\\\\Desktop\\\\Class_Files\\\\GR5072_MODERN DATA STUCUTURE'"
      ]
     },
     "execution_count": 43,
     "metadata": {},
     "output_type": "execute_result"
    }
   ],
   "source": [
    "%pwd"
   ]
  },
  {
   "cell_type": "markdown",
   "id": "29e9cb63",
   "metadata": {},
   "source": [
    "   ## Q6.Run some external script."
   ]
  },
  {
   "cell_type": "code",
   "execution_count": 14,
   "id": "639b0a63",
   "metadata": {},
   "outputs": [
    {
     "name": "stdout",
     "output_type": "stream",
     "text": [
      "The answer is 42.\n"
     ]
    }
   ],
   "source": [
    "%run script.ipynb"
   ]
  }
 ],
 "metadata": {
  "kernelspec": {
   "display_name": "Python 3",
   "language": "python",
   "name": "python3"
  },
  "language_info": {
   "codemirror_mode": {
    "name": "ipython",
    "version": 3
   },
   "file_extension": ".py",
   "mimetype": "text/x-python",
   "name": "python",
   "nbconvert_exporter": "python",
   "pygments_lexer": "ipython3",
   "version": "3.8.8"
  }
 },
 "nbformat": 4,
 "nbformat_minor": 5
}
